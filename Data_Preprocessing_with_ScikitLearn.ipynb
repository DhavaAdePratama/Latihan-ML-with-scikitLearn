{
  "nbformat": 4,
  "nbformat_minor": 0,
  "metadata": {
    "colab": {
      "provenance": []
    },
    "kernelspec": {
      "name": "python3",
      "display_name": "Python 3"
    },
    "language_info": {
      "name": "python"
    }
  },
  "cells": [
    {
      "cell_type": "code",
      "execution_count": 17,
      "metadata": {
        "colab": {
          "base_uri": "https://localhost:8080/"
        },
        "id": "ycc7IIANpzLg",
        "outputId": "89b2c353-b3bd-434e-e948-55fd8c76197c"
      },
      "outputs": [
        {
          "output_type": "execute_result",
          "data": {
            "text/plain": [
              "array([[  0.12,  13.2 ,  14.3 ],\n",
              "       [-20.  ,  21.4 , -22.  ],\n",
              "       [-31.  ,  32.2 ,  -0.33],\n",
              "       [ 41.  ,  42.  ,  43.  ]])"
            ]
          },
          "metadata": {},
          "execution_count": 17
        }
      ],
      "source": [
        "import numpy as np\n",
        "from sklearn import preprocessing\n",
        "\n",
        "sample_data= np.array([[ 0.12, 13.2, 14.3],\n",
        "                      [-20, 21.4, -22],\n",
        "                      [-31, 32.2, -0.33],\n",
        "                      [41.0, 42.0, 43.0]])\n",
        "sample_data"
      ]
    },
    {
      "cell_type": "code",
      "source": [
        "sample_data.shape"
      ],
      "metadata": {
        "colab": {
          "base_uri": "https://localhost:8080/"
        },
        "id": "0SHG8bTzrKmB",
        "outputId": "467934c2-f3b1-46c5-a4b5-a05a53b5dddb"
      },
      "execution_count": 4,
      "outputs": [
        {
          "output_type": "execute_result",
          "data": {
            "text/plain": [
              "(4, 3)"
            ]
          },
          "metadata": {},
          "execution_count": 4
        }
      ]
    },
    {
      "cell_type": "code",
      "source": [
        "# Teknik Binarisasition\n",
        "\n",
        "processor = preprocessing.Binarizer(threshold=0.33)# threshold untuk mengatur batas\n",
        "binarised_data= preprocessing.binarize(sample_data)\n",
        "\n",
        "binarised_data\n",
        "\n"
      ],
      "metadata": {
        "colab": {
          "base_uri": "https://localhost:8080/"
        },
        "id": "tzrdtNz-tuie",
        "outputId": "c6f2f299-a944-412e-a012-35ec5ac145e2"
      },
      "execution_count": 18,
      "outputs": [
        {
          "output_type": "execute_result",
          "data": {
            "text/plain": [
              "array([[1., 1., 1.],\n",
              "       [0., 1., 0.],\n",
              "       [0., 1., 0.],\n",
              "       [1., 1., 1.]])"
            ]
          },
          "metadata": {},
          "execution_count": 18
        }
      ]
    },
    {
      "cell_type": "code",
      "source": [
        "#Teknik Scalling\n",
        "# mereprsentasikan data asli dengan skala tertentu\n",
        "\n",
        "preprocessor = preprocessing.MinMaxScaler(feature_range=(0 , 1)) #feature ramge berfungsi sebagai pengatur skala data\n",
        "preprocessor.fit(sample_data)\n",
        "scaled_data = preprocessor.transform(sample_data)\n",
        "\n",
        "scaled_data"
      ],
      "metadata": {
        "colab": {
          "base_uri": "https://localhost:8080/"
        },
        "id": "lF_gabQgwEFT",
        "outputId": "75f93513-efe5-47bc-dee2-a07ea2e64294"
      },
      "execution_count": 19,
      "outputs": [
        {
          "output_type": "execute_result",
          "data": {
            "text/plain": [
              "array([[0.43222222, 0.        , 0.55846154],\n",
              "       [0.15277778, 0.28472222, 0.        ],\n",
              "       [0.        , 0.65972222, 0.33338462],\n",
              "       [1.        , 1.        , 1.        ]])"
            ]
          },
          "metadata": {},
          "execution_count": 19
        }
      ]
    },
    {
      "cell_type": "code",
      "source": [
        "#melakukan langsung fit dan transform\n",
        "\n",
        "cara_lain = preprocessor.fit_transform(sample_data)\n",
        "cara_lain"
      ],
      "metadata": {
        "colab": {
          "base_uri": "https://localhost:8080/"
        },
        "id": "pMBHnyQoyBEo",
        "outputId": "20cceb76-354f-47bd-abcd-61e966b11643"
      },
      "execution_count": 20,
      "outputs": [
        {
          "output_type": "execute_result",
          "data": {
            "text/plain": [
              "array([[0.43222222, 0.        , 0.55846154],\n",
              "       [0.15277778, 0.28472222, 0.        ],\n",
              "       [0.        , 0.65972222, 0.33338462],\n",
              "       [1.        , 1.        , 1.        ]])"
            ]
          },
          "metadata": {},
          "execution_count": 20
        }
      ]
    },
    {
      "cell_type": "code",
      "source": [
        "#Teknik Normalisation\n",
        "\n",
        "L1_normalised = preprocessing.normalize(sample_data, norm = 'l1') #norm l1 akan berasosiasi dengan teknik Least absolute deviation\n",
        "L1_normalised"
      ],
      "metadata": {
        "colab": {
          "base_uri": "https://localhost:8080/"
        },
        "id": "GHMDJ-USzE5-",
        "outputId": "d24c065a-b63f-4fc9-ebde-50943a4c236b"
      },
      "execution_count": 22,
      "outputs": [
        {
          "output_type": "execute_result",
          "data": {
            "text/plain": [
              "array([[ 0.00434468,  0.47791455,  0.51774077],\n",
              "       [-0.31545741,  0.33753943, -0.34700315],\n",
              "       [-0.48795844,  0.50684716, -0.0051944 ],\n",
              "       [ 0.32539683,  0.33333333,  0.34126984]])"
            ]
          },
          "metadata": {},
          "execution_count": 22
        }
      ]
    },
    {
      "cell_type": "code",
      "source": [
        "L2_normalised = preprocessing.normalize(sample_data, norm = 'l2') #norm l2 akan berasosiasi dengan teknik Least squre\n",
        "L2_normalised"
      ],
      "metadata": {
        "colab": {
          "base_uri": "https://localhost:8080/"
        },
        "id": "ueZbHqBT0zvq",
        "outputId": "b6120696-060a-406d-b04c-97e278547be6"
      },
      "execution_count": 23,
      "outputs": [
        {
          "output_type": "execute_result",
          "data": {
            "text/plain": [
              "array([[ 0.00616607,  0.67826721,  0.73478948],\n",
              "       [-0.54595923,  0.58417637, -0.60055515],\n",
              "       [-0.69353679,  0.72038338, -0.00738281],\n",
              "       [ 0.56349736,  0.5772412 ,  0.59098504]])"
            ]
          },
          "metadata": {},
          "execution_count": 23
        }
      ]
    }
  ]
}