{
  "nbformat": 4,
  "nbformat_minor": 0,
  "metadata": {
    "colab": {
      "provenance": []
    },
    "kernelspec": {
      "name": "python3",
      "display_name": "Python 3"
    },
    "language_info": {
      "name": "python"
    }
  },
  "cells": [
    {
      "cell_type": "code",
      "execution_count": 35,
      "metadata": {
        "id": "hSIvrGtIUPyJ"
      },
      "outputs": [],
      "source": [
        "#Bag of Words Models"
      ]
    },
    {
      "cell_type": "code",
      "source": [
        "#DATASET\n",
        "\n",
        "corpus=[\n",
        "    'This is the first document.',\n",
        "    'This document is the second document.',\n",
        "    'And this is the third one.',\n",
        "    'Is this the first document?',\n",
        "]"
      ],
      "metadata": {
        "id": "r9bJ0u7pVoa2"
      },
      "execution_count": 36,
      "outputs": []
    },
    {
      "cell_type": "code",
      "source": [
        "from sklearn.feature_extraction.text import CountVectorizer\n",
        "vectorizer=CountVectorizer()\n",
        "vectorizer_X=vectorizer.fit_transform(corpus).toarray() #jika ingin menjadi matriks menggunakan todense()\n",
        "vectorizer_X"
      ],
      "metadata": {
        "colab": {
          "base_uri": "https://localhost:8080/"
        },
        "id": "iBPDe4RCWCOb",
        "outputId": "df94b9b1-7a8a-454a-9150-544a5b009e6c"
      },
      "execution_count": 37,
      "outputs": [
        {
          "output_type": "execute_result",
          "data": {
            "text/plain": [
              "array([[0, 1, 1, 1, 0, 0, 1, 0, 1],\n",
              "       [0, 2, 0, 1, 0, 1, 1, 0, 1],\n",
              "       [1, 0, 0, 1, 1, 0, 1, 1, 1],\n",
              "       [0, 1, 1, 1, 0, 0, 1, 0, 1]])"
            ]
          },
          "metadata": {},
          "execution_count": 37
        }
      ]
    },
    {
      "cell_type": "code",
      "source": [
        "vectorizer.get_feature_names_out() #dilihat sesuai posisi nya pad kalimat pertsma tidak ada kata and maka nilainya 0"
      ],
      "metadata": {
        "colab": {
          "base_uri": "https://localhost:8080/"
        },
        "id": "KcOzUgwIWp-A",
        "outputId": "de0c13ce-6bc8-48c9-ec57-3ff3703c9c1e"
      },
      "execution_count": 38,
      "outputs": [
        {
          "output_type": "execute_result",
          "data": {
            "text/plain": [
              "array(['and', 'document', 'first', 'is', 'one', 'second', 'the', 'third',\n",
              "       'this'], dtype=object)"
            ]
          },
          "metadata": {},
          "execution_count": 38
        }
      ]
    },
    {
      "cell_type": "code",
      "source": [
        "#euclidean distence untuk mengukur kedekatan / kemimripan anatar dokumen\n",
        "\n",
        "from sklearn.metrics.pairwise import euclidean_distances\n",
        "\n",
        "for i in range (len(vectorizer_X)):\n",
        "    for j in range (i,len(vectorizer_X)):\n",
        "        if i==j:\n",
        "            continue\n",
        "        jarak=euclidean_distances(vectorizer_X[i].reshape(1, -1),vectorizer_X[j].reshape(1, -1)) # reshape karena tidak bisa menggunakan array 1 dimensi\n",
        "        print(f'jarak dokumen {i+1} dan {j+1}: {jarak}')"
      ],
      "metadata": {
        "colab": {
          "base_uri": "https://localhost:8080/"
        },
        "id": "WJSqu1GSZOAp",
        "outputId": "4bd0745d-ed14-4e40-c4b3-1c35c178b46c"
      },
      "execution_count": 39,
      "outputs": [
        {
          "output_type": "stream",
          "name": "stdout",
          "text": [
            "jarak dokumen 1 dan 2: [[1.73205081]]\n",
            "jarak dokumen 1 dan 3: [[2.23606798]]\n",
            "jarak dokumen 1 dan 4: [[0.]]\n",
            "jarak dokumen 2 dan 3: [[2.82842712]]\n",
            "jarak dokumen 2 dan 4: [[1.73205081]]\n",
            "jarak dokumen 3 dan 4: [[2.23606798]]\n"
          ]
        }
      ]
    },
    {
      "cell_type": "code",
      "source": [
        "# Stop Word Filtering pada text\n",
        "''' menyederhanakan representasi text dengan mengabaikan beberapa kata seperti determiners (the, a, an),\n",
        "conjunctions (or, and), prepositions (on, in, at), auxiliary verbs (do, be, will) and pronouns.'''\n",
        "\n",
        "#DATASET\n",
        "corpus"
      ],
      "metadata": {
        "colab": {
          "base_uri": "https://localhost:8080/"
        },
        "id": "gG5uRvUSkCq-",
        "outputId": "b6c7aad0-63c7-4525-c869-263ae8186fb8"
      },
      "execution_count": 41,
      "outputs": [
        {
          "output_type": "execute_result",
          "data": {
            "text/plain": [
              "['This is the first document.',\n",
              " 'This document is the second document.',\n",
              " 'And this is the third one.',\n",
              " 'Is this the first document?']"
            ]
          },
          "metadata": {},
          "execution_count": 41
        }
      ]
    },
    {
      "cell_type": "code",
      "source": [
        "from sklearn.feature_extraction.text import CountVectorizer\n",
        "\n",
        "vectorizer=CountVectorizer(stop_words='english')\n",
        "vectorizer_X=vectorizer.fit_transform(corpus).toarray()\n",
        "vectorizer_X"
      ],
      "metadata": {
        "colab": {
          "base_uri": "https://localhost:8080/"
        },
        "id": "1CfQAwa_mfFW",
        "outputId": "b8c6ca59-ab1c-4891-d771-a7b5fdbd376b"
      },
      "execution_count": 43,
      "outputs": [
        {
          "output_type": "execute_result",
          "data": {
            "text/plain": [
              "array([[1, 0],\n",
              "       [2, 1],\n",
              "       [0, 0],\n",
              "       [1, 0]])"
            ]
          },
          "metadata": {},
          "execution_count": 43
        }
      ]
    },
    {
      "cell_type": "code",
      "source": [
        "vectorizer.get_feature_names_out()"
      ],
      "metadata": {
        "colab": {
          "base_uri": "https://localhost:8080/"
        },
        "id": "orW3TFJGnBor",
        "outputId": "98f0e420-f1e3-420b-c01a-367c828b0721"
      },
      "execution_count": 44,
      "outputs": [
        {
          "output_type": "execute_result",
          "data": {
            "text/plain": [
              "array(['document', 'second'], dtype=object)"
            ]
          },
          "metadata": {},
          "execution_count": 44
        }
      ]
    }
  ]
}