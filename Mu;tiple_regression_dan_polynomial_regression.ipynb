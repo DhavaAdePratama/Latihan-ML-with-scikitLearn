{
  "nbformat": 4,
  "nbformat_minor": 0,
  "metadata": {
    "colab": {
      "provenance": []
    },
    "kernelspec": {
      "name": "python3",
      "display_name": "Python 3"
    },
    "language_info": {
      "name": "python"
    }
  },
  "cells": [
    {
      "cell_type": "code",
      "execution_count": 2,
      "metadata": {
        "colab": {
          "base_uri": "https://localhost:8080/"
        },
        "id": "aLPHQw5v_J-L",
        "outputId": "ca8242a8-7e98-4883-f262-524b1afaa3eb"
      },
      "outputs": [
        {
          "output_type": "stream",
          "name": "stdout",
          "text": [
            "   diameter  n_topping  harga\n",
            "0         6          2    7.0\n",
            "1         8          1    9.0\n",
            "2        10          0   13.0\n",
            "3        14          2   17.5\n",
            "4        18          0   18.0\n"
          ]
        }
      ],
      "source": [
        "import pandas as pd\n",
        "\n",
        "#Training set\n",
        "pizza = {'diameter' : [6,8,10,14,18],\n",
        "         'n_topping' : [2,1,0,2,0],\n",
        "         'harga' : [7,9,13,17.5,18]}\n",
        "\n",
        "\n",
        "train_df_pizza = pd.DataFrame(pizza)\n",
        "print(train_df_pizza)\n"
      ]
    },
    {
      "cell_type": "code",
      "source": [
        "# testing set\n",
        "\n",
        "pizza = {'diameter' : [8,9,11,16,12],\n",
        "         'n_topping' : [2,0,2,2,0],\n",
        "         'harga' : [11, 8.5, 15, 18, 11]}\n",
        "\n",
        "\n",
        "test_df_pizza = pd.DataFrame(pizza)\n",
        "print(test_df_pizza)\n"
      ],
      "metadata": {
        "colab": {
          "base_uri": "https://localhost:8080/"
        },
        "id": "mGIk8xFMRCDs",
        "outputId": "35e7bcd1-28c2-4fdf-88cf-2498890d0ebd"
      },
      "execution_count": 3,
      "outputs": [
        {
          "output_type": "stream",
          "name": "stdout",
          "text": [
            "   diameter  n_topping  harga\n",
            "0         8          2   11.0\n",
            "1         9          0    8.5\n",
            "2        11          2   15.0\n",
            "3        16          2   18.0\n",
            "4        12          0   11.0\n"
          ]
        }
      ]
    },
    {
      "cell_type": "code",
      "source": [
        "\n",
        "#PREPROCESSING DATASET\n",
        "\n",
        "import numpy as np\n",
        "\n",
        "x_train = np.array(train_df_pizza[['diameter','n_topping']])\n",
        "y_train = np.array(train_df_pizza['harga'])\n",
        "\n",
        "X_test = np.array(test_df_pizza[['diameter','n_topping']])\n",
        "y_test = np.array(test_df_pizza['harga'])"
      ],
      "metadata": {
        "id": "k3nQtwn0R6hS"
      },
      "execution_count": 6,
      "outputs": []
    },
    {
      "cell_type": "code",
      "source": [
        "#MULTIPLE LINEAR REGRESSION\n",
        "\n",
        "from sklearn.linear_model import LinearRegression\n",
        "from sklearn.metrics import r2_score\n",
        "\n",
        "model = LinearRegression()\n",
        "model.fit(x_train,y_train)\n",
        "\n",
        "y_pred = model.predict(X_test)\n",
        "print(y_pred)\n",
        "\n",
        "print(r2_score(y_test,y_pred))\n"
      ],
      "metadata": {
        "colab": {
          "base_uri": "https://localhost:8080/"
        },
        "id": "RMeYysfWSt16",
        "outputId": "f8196262-6128-4ad9-a880-6beb06b3cf4f"
      },
      "execution_count": 8,
      "outputs": [
        {
          "output_type": "stream",
          "name": "stdout",
          "text": [
            "[10.0625     10.28125    13.09375    18.14583333 13.3125    ]\n",
            "0.7701677731318468\n"
          ]
        }
      ]
    },
    {
      "cell_type": "code",
      "source": [
        "\n",
        "#POLYNOMIAL REGRESSION\n",
        "\n",
        "#PREPROCESSING DATASET\n",
        "\n",
        "train = np.array(train_df_pizza[['diameter']])\n",
        "y_train = np.array(train_df_pizza['harga'])\n"
      ],
      "metadata": {
        "id": "ima-Ex5HUx6j"
      },
      "execution_count": 9,
      "outputs": []
    }
  ]
}